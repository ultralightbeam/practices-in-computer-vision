{
 "cells": [
  {
   "cell_type": "code",
   "execution_count": null,
   "metadata": {},
   "outputs": [],
   "source": [
    "\n",
    "\"\"\"\n",
    "1. blurred contours\n",
    "\"\"\"\n",
    "\n",
    "\n",
    "from PIL import Image\n",
    "import matplotlib.pyplot as plt\n",
    "import numpy as np\n",
    "from scipy.ndimage import filters\n",
    "\n",
    "im_gray = np.array(Image.open('floyd.png').convert('L'))\n",
    "\n",
    "plt.figure(figsize=(12,12))\n",
    "plt.subplot(2,2,1)\n",
    "plt.contour(im_gray,origin='image')\n",
    "plt.subplot(2,2,2)\n",
    "plt.contour(filters.gaussian_filter(im_gray,2),origin='image')\n",
    "plt.subplot(2,2,3)\n",
    "plt.contour(filters.gaussian_filter(im_gray,4),origin='image')\n",
    "plt.subplot(2,2,4)\n",
    "plt.contour(filters.gaussian_filter(im_gray,8),origin='image')\n",
    "plt.show()\n",
    "\n"
   ]
  },
  {
   "cell_type": "code",
   "execution_count": null,
   "metadata": {},
   "outputs": [],
   "source": [
    "\n",
    "\"\"\"\n",
    "2. unsharpening\n",
    "\"\"\"\n",
    "\n",
    "\n",
    "from PIL import Image\n",
    "import matplotlib.pyplot as plt\n",
    "import numpy as np\n",
    "from scipy.ndimage import filters\n",
    "\n",
    "# grayscale images seem to work better, visually?\n",
    "\n",
    "im = filters.gaussian_filter(np.array(Image.open('floyd.png')).astype(float), 0.5)\n",
    "\n",
    "a = 1\n",
    "sig = 2\n",
    "\n",
    "im_sharp = np.maximum(im+a*(im-filters.gaussian_filter(im, sig)), 0)\n",
    "\n",
    "plt.figure(figsize=(12,12))\n",
    "plt.subplot(1,2,1)\n",
    "plt.imshow((im-im.min())/(im.max()-im.min()))\n",
    "plt.subplot(1,2,2)\n",
    "plt.imshow((im_sharp-im_sharp.min())/(im_sharp.max()-im_sharp.min()))\n",
    "plt.show()\n"
   ]
  },
  {
   "cell_type": "code",
   "execution_count": null,
   "metadata": {},
   "outputs": [],
   "source": [
    "\n",
    "\"\"\"\n",
    "3. quotient images\n",
    "\"\"\"\n",
    "\n",
    "\n",
    "\n",
    "from PIL import Image\n",
    "import matplotlib.pyplot as plt\n",
    "import numpy as np\n",
    "from scipy.ndimage import filters\n",
    "\n",
    "# grayscale images seem to work better, visually?\n",
    "\n",
    "im = np.array(Image.open('floyd.png').convert('L'))\n",
    "im_blur = filters.gaussian_filter(im, 100)\n",
    "im_quotient = im/im_blur\n",
    "\n",
    "plt.figure(figsize=(12,10))\n",
    "plt.subplot(2,2,1)\n",
    "plt.imshow(im,cmap='gray')\n",
    "plt.subplot(2,2,2)\n",
    "plt.imshow(im_quotient,cmap='gray')\n",
    "plt.subplot(2,2,3)\n",
    "hist,bins = np.histogram(im.flatten(),100)\n",
    "plt.plot(bins[1:],hist)\n",
    "plt.subplot(2,2,4)\n",
    "hist,bins = np.histogram(im_quotient.flatten(),100)\n",
    "plt.plot(bins[1:],hist)\n",
    "plt.show()\n"
   ]
  },
  {
   "cell_type": "code",
   "execution_count": null,
   "metadata": {},
   "outputs": [],
   "source": [
    "\"\"\"\n",
    "4. boundaries by gradients\n",
    "\"\"\"\n",
    "\n",
    "None\n"
   ]
  },
  {
   "cell_type": "code",
   "execution_count": null,
   "metadata": {},
   "outputs": [],
   "source": [
    "\"\"\"\n",
    "5. lines by gradients\n",
    "\"\"\"\n",
    "\n",
    "\n",
    "from PIL import Image\n",
    "im = np.array(Image.open('house.png').convert('L'))\n",
    "\n",
    "# \n",
    "\n",
    "plt.figure(figsize=(12,8))\n",
    "plt.imshow(im, cmap='gray')\n",
    "plt.show()\n"
   ]
  },
  {
   "cell_type": "code",
   "execution_count": null,
   "metadata": {
    "collapsed": true
   },
   "outputs": [],
   "source": []
  }
 ],
 "metadata": {
  "kernelspec": {
   "display_name": "Python 3",
   "language": "python",
   "name": "python3"
  },
  "language_info": {
   "codemirror_mode": {
    "name": "ipython",
    "version": 3
   },
   "file_extension": ".py",
   "mimetype": "text/x-python",
   "name": "python",
   "nbconvert_exporter": "python",
   "pygments_lexer": "ipython3",
   "version": "3.6.3"
  }
 },
 "nbformat": 4,
 "nbformat_minor": 2
}
